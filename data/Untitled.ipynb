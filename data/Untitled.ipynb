{
 "cells": [
  {
   "cell_type": "code",
   "execution_count": 8,
   "id": "024d3e35",
   "metadata": {},
   "outputs": [
    {
     "name": "stdout",
     "output_type": "stream",
     "text": [
      "Error: Start cannot be after End!\n"
     ]
    },
    {
     "ename": "ValueError",
     "evalue": "Start cannot be after End!",
     "output_type": "error",
     "traceback": [
      "\u001b[0;31m---------------------------------------------------------------------------\u001b[0m",
      "\u001b[0;31mValueError\u001b[0m                                Traceback (most recent call last)",
      "Input \u001b[0;32mIn [8]\u001b[0m, in \u001b[0;36m<cell line: 4>\u001b[0;34m()\u001b[0m\n\u001b[1;32m      4\u001b[0m \u001b[38;5;28;01mtry\u001b[39;00m:\n\u001b[1;32m      5\u001b[0m     \u001b[38;5;28;01mif\u001b[39;00m start_time \u001b[38;5;241m<\u001b[39m end_time:\n\u001b[0;32m----> 6\u001b[0m         \u001b[38;5;28;01mraise\u001b[39;00m \u001b[38;5;167;01mValueError\u001b[39;00m(\u001b[38;5;124m\"\u001b[39m\u001b[38;5;124mStart cannot be after End!\u001b[39m\u001b[38;5;124m\"\u001b[39m)\n\u001b[1;32m      7\u001b[0m \u001b[38;5;28;01mexcept\u001b[39;00m \u001b[38;5;167;01mValueError\u001b[39;00m \u001b[38;5;28;01mas\u001b[39;00m ve:\n\u001b[1;32m      8\u001b[0m     \u001b[38;5;28mprint\u001b[39m(\u001b[38;5;124m\"\u001b[39m\u001b[38;5;124mError:\u001b[39m\u001b[38;5;124m\"\u001b[39m, ve)\n",
      "\u001b[0;31mValueError\u001b[0m: Start cannot be after End!"
     ]
    }
   ],
   "source": [
    "start_time=5\n",
    "end_time=10\n",
    "\n",
    "try:\n",
    "    if start_time < end_time:\n",
    "        raise ValueError(\"Start cannot be after End!\")\n",
    "except ValueError as ve:\n",
    "    print(\"Error:\", ve)\n",
    "    raise  # Re-raise the exception"
   ]
  },
  {
   "cell_type": "code",
   "execution_count": 2,
   "id": "72944d0b",
   "metadata": {},
   "outputs": [
    {
     "name": "stdout",
     "output_type": "stream",
     "text": [
      "Result: 10.0\n",
      "Result: 5.0\n",
      "Result: 3.3333333333333335\n",
      "Error: Division by zero!\n",
      "Result: 2.5\n",
      "Result: 2.0\n"
     ]
    }
   ],
   "source": [
    "numbers = [1, 2, 3, 0, 4, 5]\n",
    "\n",
    "for num in numbers:\n",
    "    try:\n",
    "        result = 10 / num\n",
    "        print(f\"Result: {result}\")\n",
    "    except ZeroDivisionError:\n",
    "        print(\"Error: Division by zero!\")\n",
    "    except Exception as e:\n",
    "        print(\"Unknown Error:\", e)"
   ]
  },
  {
   "cell_type": "code",
   "execution_count": null,
   "id": "3993fb55",
   "metadata": {},
   "outputs": [],
   "source": []
  }
 ],
 "metadata": {
  "kernelspec": {
   "display_name": "Python 3 (ipykernel)",
   "language": "python",
   "name": "python3"
  },
  "language_info": {
   "codemirror_mode": {
    "name": "ipython",
    "version": 3
   },
   "file_extension": ".py",
   "mimetype": "text/x-python",
   "name": "python",
   "nbconvert_exporter": "python",
   "pygments_lexer": "ipython3",
   "version": "3.9.16"
  }
 },
 "nbformat": 4,
 "nbformat_minor": 5
}
